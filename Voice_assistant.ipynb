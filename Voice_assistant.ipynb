{
  "nbformat": 4,
  "nbformat_minor": 0,
  "metadata": {
    "colab": {
      "provenance": [],
      "authorship_tag": "ABX9TyP+XW/sIxqQInSdomu6rLZI",
      "include_colab_link": true
    },
    "kernelspec": {
      "name": "python3",
      "display_name": "Python 3"
    },
    "language_info": {
      "name": "python"
    }
  },
  "cells": [
    {
      "cell_type": "markdown",
      "metadata": {
        "id": "view-in-github",
        "colab_type": "text"
      },
      "source": [
        "<a href=\"https://colab.research.google.com/github/shifazz/Basics-of-python/blob/main/Voice_assistant.ipynb\" target=\"_parent\"><img src=\"https://colab.research.google.com/assets/colab-badge.svg\" alt=\"Open In Colab\"/></a>"
      ]
    },
    {
      "cell_type": "code",
      "execution_count": null,
      "metadata": {
        "id": "_3k3yCdsatt5"
      },
      "outputs": [],
      "source": [
        "\n",
        "import pyttsx3  # Text-to-speech\n",
        "import speech_recognition as sr  # Speech recognition\n",
        "import datetime  # Date and time\n",
        "import wikipedia  # Accessing Wikipedia\n",
        "import webbrowser  # Opening web pages\n",
        "import os  # System operations\n",
        "\n",
        "engine = pyttsx3.init('sapi5')  # Initialize text-to-speech engine\n",
        "voices = engine.getProperty('voices')  # Get available voices\n",
        "engine.setProperty('voice', voices[0].id)  # Set voice (0 for male, 1 for female)\n",
        "\n",
        "def speak(text):\n",
        "    \"\"\"Speaks the given text.\"\"\"\n",
        "    engine.say(text)\n",
        "    engine.runAndWait()\n",
        "\n",
        "def wish_me():\n",
        "    \"\"\"Greets the user based on the time of day.\"\"\"\n",
        "    hour = int(datetime.datetime.now().hour)\n",
        "    if 0 <= hour < 12:\n",
        "        speak(\"Good Morning!\")\n",
        "    elif 12 <= hour < 18:\n",
        "        speak(\"Good Afternoon!\")\n",
        "    else:\n",
        "        speak(\"Good Evening!\")\n",
        "\n",
        "    speak(\"I am your voice assistant. How may I help you?\")\n",
        "\n",
        "def take_command():\n",
        "    \"\"\"Takes voice input from the user.\"\"\"\n",
        "    r = sr.Recognizer()\n",
        "    with sr.Microphone() as source:\n",
        "        print(\"Listening...\")\n",
        "        r.pause_threshold = 1  # Adjust for noise sensitivity\n",
        "        audio = r.listen(source)\n",
        "\n",
        "    try:\n",
        "        print(\"Recognizing...\")\n",
        "        query = r.recognize_google(audio, language='en-in')  # Adjust language as needed\n",
        "        print(f\"User said: {query}\\n\")\n",
        "    except Exception as e:\n",
        "        # print(e)  # Uncomment to print error for debugging\n",
        "        print(\"Say that again please...\")\n",
        "        return \"None\"\n",
        "    return query\n",
        "\n",
        "if __name__ == \"__main__\":\n",
        "    wish_me()\n",
        "    while True:\n",
        "        query = take_command().lower()\n",
        "\n",
        "        # Logic for executing actions based on the user's query:\n",
        "        if 'wikipedia' in query:\n",
        "            speak('Searching Wikipedia...')\n",
        "            query = query.replace(\"wikipedia\", \"\")\n",
        "            results = wikipedia.summary(query, sentences=2)\n",
        "            speak(\"According to Wikipedia\")\n",
        "            print(results)\n",
        "            speak(results)\n",
        "\n",
        "        elif 'open youtube' in query:\n",
        "            webbrowser.open(\"youtube.com\")\n",
        "\n",
        "        elif 'open google' in query:\n",
        "            webbrowser.open(\"google.com\")\n",
        "\n",
        "        elif 'play music' in query:\n",
        "            music_dir = 'D:\\\\Music'  # Replace with your music directory\n",
        "            songs = os.listdir(music_dir)\n",
        "            os.startfile(os.path.join(music_dir, songs[0]))\n",
        "\n",
        "        elif 'the time' in query:\n",
        "            str_time = datetime.datetime.now().strftime(\"%H:%M:%S\")\n",
        "            speak(f\"Sir, the time is {str_time}\")\n",
        "\n",
        "        elif 'exit' in query:\n",
        "            speak(\"Goodbye!\")\n",
        "            break"
      ]
    }
  ]
}
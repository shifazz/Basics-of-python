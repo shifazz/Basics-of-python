{
  "nbformat": 4,
  "nbformat_minor": 0,
  "metadata": {
    "colab": {
      "provenance": [],
      "authorship_tag": "ABX9TyNOsXqEaRrn6K272lhZdDvF",
      "include_colab_link": true
    },
    "kernelspec": {
      "name": "python3",
      "display_name": "Python 3"
    },
    "language_info": {
      "name": "python"
    }
  },
  "cells": [
    {
      "cell_type": "markdown",
      "metadata": {
        "id": "view-in-github",
        "colab_type": "text"
      },
      "source": [
        "<a href=\"https://colab.research.google.com/github/shifazz/Basics-of-python/blob/main/Bingo.ipynb\" target=\"_parent\"><img src=\"https://colab.research.google.com/assets/colab-badge.svg\" alt=\"Open In Colab\"/></a>"
      ]
    },
    {
      "cell_type": "code",
      "execution_count": null,
      "metadata": {
        "id": "U-tGCFY9YeJU"
      },
      "outputs": [],
      "source": [
        "\n",
        "import random\n",
        "\n",
        "def create_bingo_card():\n",
        "  numbers = list(range(1, 76))  # Numbers for a 5x5 card\n",
        "  random.shuffle(numbers)\n",
        "  card = numbers[:25]  # Create a 5x5 card\n",
        "  card[12] = 'FREE'  # Set the center square as free\n",
        "  return [card[i:i+5] for i in range(0, 25, 5)]  # Format into 5 rows\n",
        "\n",
        "def draw_number():\n",
        "  global balls_left\n",
        "  if balls_left:\n",
        "    ball = random.choice(balls_left)\n",
        "    balls_left.remove(ball)\n",
        "    return ball\n",
        "  else:\n",
        "    return None  # Indicate no more balls\n",
        "\n",
        "def check_bingo(card):\n",
        "  # Check rows, columns, and diagonals\n",
        "  for row in card:\n",
        "    if all(x == 'X' for x in row):\n",
        "      return True\n",
        "  for col in zip(*card):  # Transpose card to check columns\n",
        "    if all(x == 'X' for x in col):\n",
        "      return True\n",
        "  if all(card[i][i] == 'X' for i in range(5)) or all(card[i][4-i] == 'X' for i in range(5)):  # Diagonals\n",
        "    return True\n",
        "  return False\n",
        "\n",
        "def play_bingo():\n",
        "  card = create_bingo_card()\n",
        "  print(\"Your Bingo card:\")\n",
        "  for row in card:\n",
        "    print(\" \".join(str(num).rjust(3) if num != 'FREE' else 'FREE' for num in row))\n",
        "\n",
        "  global balls_left\n",
        "  balls_left = list(range(1, 76))  # Balls for the game\n",
        "\n",
        "  while True:\n",
        "    ball = draw_number()\n",
        "    if ball is None:\n",
        "      print(\"All balls have been drawn. It's a tie!\")\n",
        "      break\n",
        "    print(f\"The next ball is: {ball}\")\n",
        "\n",
        "    # Check and mark the card\n",
        "    if ball in card:\n",
        "      row, col = (i for i, row in enumerate(card) if ball in row)\n",
        "      card[row][col] = 'X'\n",
        "      print(\"Your card:\")\n",
        "      for row in card:\n",
        "        print(\" \".join(str(num).rjust(3) for num in row))\n",
        "\n",
        "      if check_bingo(card):\n",
        "        print(\"BINGO! You win!\")\n",
        "        break\n",
        "\n",
        "if __name__ == \"__main__\":\n",
        "  play_bingo()"
      ]
    }
  ]
}
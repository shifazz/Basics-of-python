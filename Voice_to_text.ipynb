{
  "nbformat": 4,
  "nbformat_minor": 0,
  "metadata": {
    "colab": {
      "provenance": [],
      "authorship_tag": "ABX9TyPtZD4eVe6BQNCfTUB9Xyh5",
      "include_colab_link": true
    },
    "kernelspec": {
      "name": "python3",
      "display_name": "Python 3"
    },
    "language_info": {
      "name": "python"
    }
  },
  "cells": [
    {
      "cell_type": "markdown",
      "metadata": {
        "id": "view-in-github",
        "colab_type": "text"
      },
      "source": [
        "<a href=\"https://colab.research.google.com/github/shifazz/Basics-of-python/blob/main/Voice_to_text.ipynb\" target=\"_parent\"><img src=\"https://colab.research.google.com/assets/colab-badge.svg\" alt=\"Open In Colab\"/></a>"
      ]
    },
    {
      "cell_type": "code",
      "execution_count": null,
      "metadata": {
        "id": "4m1Ld8D_b6rb"
      },
      "outputs": [],
      "source": [
        "\n",
        "import speech_recognition as sr\n",
        "\n",
        "# Create a recognizer instance\n",
        "r = sr.Recognizer()\n",
        "\n",
        "# Use the microphone as the audio source\n",
        "with sr.Microphone() as source:\n",
        "    print(\"Speak now...\")\n",
        "    audio = r.listen(source)\n",
        "\n",
        "# Try converting the speech to text using Google Speech Recognition\n",
        "try:\n",
        "    text = r.recognize_google(audio)\n",
        "    print(\"You said:\", text)\n",
        "except sr.UnknownValueError:\n",
        "    print(\"Could not understand audio\")\n",
        "except sr.RequestError as e:\n",
        "    print(\"Could not request results from Google Speech Recognition service; {0}\".format(e))"
      ]
    }
  ]
}